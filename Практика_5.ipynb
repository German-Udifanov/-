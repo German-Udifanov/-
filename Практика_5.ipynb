{
 "cells": [
  {
   "cell_type": "code",
   "execution_count": 70,
   "id": "fd432e53",
   "metadata": {},
   "outputs": [],
   "source": [
    "import numpy as np\n",
    "\"\"\"\n",
    "Кредиты: исходный код принадлежит заданию курса Stanford CS231n 1. Ссылка на источник: http://cs231n.github.io/assignments2019/assignment1/\n",
    "\"\"\"\n",
    "\n",
    "class KNearestNeighbor:\n",
    "    \"\"\" классификатор kNN с расстоянием L2 \"\"\"\n",
    "\n",
    "    def __init__(self):\n",
    "        pass\n",
    "\n",
    "    def fit(self, X, y):\n",
    "        \"\"\"\n",
    "        Обучите классификатор. Для k-ближайших соседей это просто\n",
    "        запоминание тренировочных данных.\n",
    "\n",
    "        Входные:\n",
    "        - X: Массив numpy shape (num_train, D), содержащий обучающие данные\n",
    "          состоящий из выборок num_train, каждая из которых имеет размерность D.\n",
    "        - y: Числовой массив shape (N,), содержащий обучающие метки, где\n",
    "             y[i] - это метка для X[i].\n",
    "        \"\"\"\n",
    "        self.X_train = X\n",
    "        self.y_train = y\n",
    "\n",
    "    def predict(self, X, k=1, num_loops=0):\n",
    "        \"\"\"\n",
    "       Прогнозируйте метки для тестовых данных, используя этот классификатор.\n",
    "        Входные:\n",
    "        - X: Массив numpy формы (num_test, D), содержащий тестовые данные, состоящие\n",
    "             из num_test выборок, каждая из измерения D.\n",
    "        - k: Количество ближайших соседей, которые голосуют за предсказанные метки.\n",
    "        - num_loops: определяет, какую реализацию использовать для вычисления расстояний\n",
    "          между точками обучения и тестирования.\n",
    "        Возвращается:\n",
    "        - y: массив numpy формы (num_test,), содержащий предсказанные метки для\n",
    "          тестовые данные, где y[i] - прогнозируемая метка для тестовой точки X[i].\n",
    "        num_loops = 0: Этот параметр использует векторизованную реализацию для вычисления расстояний без использования каких-либо явных циклов.\n",
    "        num_loops = 1: Этот параметр использует один цикл для вычисления расстояний.\n",
    "        num_loops = 2: Этот параметр использует два вложенных цикла для вычисления расстояний.\n",
    "        \"\"\"\n",
    "        if num_loops == 0:\n",
    "            dists = self.compute_distances_no_loops(X)\n",
    "        elif num_loops == 1:\n",
    "            dists = self.compute_distances_one_loop(X)\n",
    "        elif num_loops == 2:\n",
    "            dists = self.compute_distances_two_loops(X)\n",
    "        else:\n",
    "            raise ValueError('Invalid value %d for num_loops' % num_loops)\n",
    "\n",
    "        return self.predict_labels(dists, k=k)\n",
    "\n",
    "    def compute_distances_two_loops(self, X):\n",
    "        \"\"\"\n",
    "        Вычислите расстояние между каждой тестовой точкой в X и каждой тренировочной точкой\n",
    "        в self.X_train используется вложенный цикл как над обучающими данными, так и над\n",
    "        тестовыми данными.\n",
    "\n",
    "        Входные:\n",
    "        - X: Массив numpy формы (num_test, D), содержащий тестовые данные.\n",
    "\n",
    "        Возвращается:\n",
    "        - dists: массив numpy формы (num_test, num_train), где dists[i, j]\n",
    "          это евклидово расстояние между i-й контрольной точкой и j-й тренировочной\n",
    "          точка.\n",
    "        \"\"\"\n",
    "        num_test = X.shape[0]\n",
    "        num_train = self.X_train.shape[0]\n",
    "        dists = np.zeros((num_test, num_train))\n",
    "        for i in range(num_test):\n",
    "            for j in range(num_train):\n",
    "                dists[i, j] = np.sqrt(np.sum(np.square(X[i] - self.X_train[j])))\n",
    "                #####################################################################\n",
    "                # ЗАДАЧА: #\n",
    "                # Вычислить расстояние l2 между i-й тестовой точкой и j-й тренировочной точкой # \n",
    "                # и сохранить результат в dists[i, j]. \n",
    "                # Вы должны использовать цикл по измерению и не использовать np.linalg.norm(). \n",
    "                # np.linalg.norm() вычисляется L2-норма вектора, и результат выводится на экран. \n",
    "                # L2-норма является квадратным корнем из суммы квадратов элементов вектора.\n",
    "                #####################################################################\n",
    "        return dists\n",
    "\n",
    "    def compute_distances_one_loop(self, X):\n",
    "        \"\"\"\n",
    "        Вычислите расстояние между каждой тестовой точкой в X и каждой тренировочной точкой\n",
    "        в self.X_train используется один цикл над тестовыми данными.\n",
    "\n",
    "        Ввод / вывод: То же, что и compute_distances_two_loops\n",
    "        \"\"\"\n",
    "        num_test = X.shape[0]\n",
    "        num_train = self.X_train.shape[0]\n",
    "        dists = np.zeros((num_test, num_train))\n",
    "        for i in range(num_test):\n",
    "            #######################################################################\n",
    "            # TODO:                                                               #\n",
    "            # Compute the l2 distance between the ith test point and all training #\n",
    "            # points, and store the result in dists[i, :].                        #\n",
    "            # Do not use np.linalg.norm().                                        #\n",
    "            #######################################################################\n",
    "            # *****START OF YOUR CODE (DO NOT DELETE/MODIFY THIS LINE)*****\n",
    "            # *****END OF YOUR CODE (DO NOT DELETE/MODIFY THIS LINE)*****\n",
    "               dists[i, :] = np.sqrt(np.sum(np.square(X[i] - self.X_train), axis=1))\n",
    "        return dists\n",
    "\n",
    "    def compute_distances_no_loops(self, X):\n",
    "        \"\"\"\n",
    "        Вычислите расстояние между каждой тестовой точкой в X и каждой тренировочной точкой\n",
    "        в self.X_train не используются явные циклы.\n",
    "\n",
    "        Ввод / вывод: То же, что и compute_distances_two_loops\n",
    "        \"\"\"\n",
    "        num_test = X.shape[0]\n",
    "        num_train = self.X_train.shape[0]\n",
    "        dists = np.zeros((num_test, num_train))\n",
    "        #########################################################################\n",
    "        # TODO:                                                                 #\n",
    "        # Compute the l2 distance between all test points and all training      #\n",
    "        # points without using any explicit loops, and store the result in      #\n",
    "        # dists.                                                                #\n",
    "        #                                                                       #\n",
    "        # You should implement this function using only basic array operations; #\n",
    "        # in particular you should not use functions from scipy,                #\n",
    "        # nor use np.linalg.norm().                                             #\n",
    "        #                                                                       #\n",
    "        # HINT: Try to formulate the l2 distance using matrix multiplication    #\n",
    "        #       and two broadcast sums.                                         #\n",
    "        #########################################################################\n",
    "        # *****START OF YOUR CODE (DO NOT DELETE/MODIFY THIS LINE)*****\n",
    "\n",
    "        # *****END OF YOUR CODE (DO NOT DELETE/MODIFY THIS LINE)*****\n",
    "        for i in range(num_test):\n",
    "            for j in range(num_train):\n",
    "                dists[i, j] = np.sqrt(np.sum(np.square(X[i] - self.X_train[j])))\n",
    "        return dists\n",
    "\n",
    "    def predict_labels(self, dists, k=1):\n",
    "        \"\"\"\n",
    "        Учитывая матрицу расстояний между контрольными точками и тренировочными точками,\n",
    "        спрогнозируйте метку для каждой тестовой точки.\n",
    "\n",
    "        Входные:\n",
    "        - dists: массив numpy формы (num_test, num_train), где dists[i, j]\n",
    "          задает расстояние между i-й тестовой точкой и j-й тренировочной точкой.\n",
    "\n",
    "        Возвращается:\n",
    "        - y: массив numpy формы (num_test,), содержащий предсказанные метки для\n",
    "        тестовых данных, где y[i] - предсказанная метка для тестовой точки X[i].\n",
    "        \"\"\"\n",
    "        num_test = dists.shape[0]\n",
    "        y_pred = np.zeros(num_test)\n",
    "        for i in range(num_test):\n",
    "        # A list of length k storing the labels of the k nearest neighbors to\n",
    "            # the ith test point.\n",
    "            #########################################################################\n",
    "            # TODO:                                                                 #\n",
    "            # Use the distance matrix to find the k nearest neighbors of the ith    #\n",
    "            # testing point, and use self.y_train to find the labels of these       #\n",
    "            # neighbors. Store these labels in closest_y.                           #\n",
    "            # Hint: Look up the function numpy.argsort.                             #\n",
    "            #########################################################################\n",
    "            # *****START OF YOUR CODE (DO NOT DELETE/MODIFY THIS LINE)*****\n",
    "            # *****END OF YOUR CODE (DO NOT DELETE/MODIFY THIS LINE)*****\n",
    "            #########################################################################\n",
    "            # TODO:                                                                 #\n",
    "            # Now that you have found the labels of the k nearest neighbors, you    #\n",
    "            # need to find the most common label in the list closest_y of labels.   #\n",
    "            # Store this label in y_pred[i]. Break ties by choosing the smaller     #\n",
    "            # label.                                                                #\n",
    "            #########################################################################\n",
    "            # *****START OF YOUR CODE (DO NOT DELETE/MODIFY THIS LINE)*****\n",
    "\n",
    "            # *****END OF YOUR CODE (DO NOT DELETE/MODIFY THIS LINE)*****\n",
    "            closest_indices = np.argsort(dists[i])[:k]\n",
    "            closest_y = self.y_train[closest_indices]\n",
    "            counts = np.bincount(closest_y)\n",
    "            y_pred[i] = np.argmax(counts)\n",
    "        return y_pred\n"
   ]
  },
  {
   "cell_type": "code",
   "execution_count": 71,
   "id": "7833e303",
   "metadata": {
    "scrolled": true
   },
   "outputs": [],
   "source": [
    "from sklearn.datasets import load_iris\n",
    "from sklearn.model_selection import train_test_split\n",
    "iris = load_iris(as_frame=True)\n",
    "X = np.array(iris.data[[\"sepal length (cm)\", \"sepal width (cm)\"]])\n",
    "y = np.array(iris.target)\n",
    "X_train, X_test, y_train, y_test = train_test_split(X, y, stratify=y, random_state=0)\n",
    "knn = KNearestNeighbor()\n",
    "knn.fit(X_train, y_train)"
   ]
  },
  {
   "cell_type": "code",
   "execution_count": 72,
   "id": "42fca2a4",
   "metadata": {},
   "outputs": [],
   "source": [
    "result_predict=knn.predict(X_test, k=1, num_loops=0)"
   ]
  },
  {
   "cell_type": "code",
   "execution_count": 73,
   "id": "96da1979",
   "metadata": {},
   "outputs": [
    {
     "name": "stdout",
     "output_type": "stream",
     "text": [
      "[0. 0. 0. 0. 1. 2. 2. 0. 2. 2. 1. 1. 2. 1. 1. 0. 0. 2. 0. 2. 1. 1. 2. 0.\n",
      " 1. 0. 0. 1. 2. 2. 0. 2. 2. 1. 0. 2. 2. 2.]\n"
     ]
    }
   ],
   "source": [
    "print(result_predict)"
   ]
  },
  {
   "cell_type": "code",
   "execution_count": 74,
   "id": "3a3b71e9",
   "metadata": {},
   "outputs": [
    {
     "name": "stdout",
     "output_type": "stream",
     "text": [
      "[0 0 0 0 1 1 1 0 1 2 2 2 1 2 1 0 0 2 0 1 2 1 1 0 2 0 0 1 2 1 0 1 2 2 0 1 2\n",
      " 2]\n"
     ]
    }
   ],
   "source": [
    "print(y_test)"
   ]
  },
  {
   "cell_type": "code",
   "execution_count": 75,
   "id": "8344b6ae",
   "metadata": {},
   "outputs": [
    {
     "name": "stdout",
     "output_type": "stream",
     "text": [
      "[ True  True  True  True  True False False  True False  True False False\n",
      " False False  True  True  True  True  True False False  True False  True\n",
      " False  True  True  True  True False  True False  True False  True False\n",
      "  True  True]\n"
     ]
    }
   ],
   "source": [
    "print(result_predict==y_test)"
   ]
  },
  {
   "cell_type": "code",
   "execution_count": 76,
   "id": "7233dd11",
   "metadata": {},
   "outputs": [
    {
     "name": "stdout",
     "output_type": "stream",
     "text": [
      "23\n"
     ]
    }
   ],
   "source": [
    "print(np.sum(result_predict==y_test))"
   ]
  }
 ],
 "metadata": {
  "kernelspec": {
   "display_name": "Python 3 (ipykernel)",
   "language": "python",
   "name": "python3"
  },
  "language_info": {
   "codemirror_mode": {
    "name": "ipython",
    "version": 3
   },
   "file_extension": ".py",
   "mimetype": "text/x-python",
   "name": "python",
   "nbconvert_exporter": "python",
   "pygments_lexer": "ipython3",
   "version": "3.9.12"
  }
 },
 "nbformat": 4,
 "nbformat_minor": 5
}
